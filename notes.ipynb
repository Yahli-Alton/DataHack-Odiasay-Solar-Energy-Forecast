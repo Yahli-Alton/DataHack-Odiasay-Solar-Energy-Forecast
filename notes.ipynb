{
 "cells": [
  {
   "cell_type": "markdown",
   "id": "3425ddbd",
   "metadata": {},
   "source": [
    " hi pony"
   ]
  }
 ],
 "metadata": {
  "language_info": {
   "name": "python"
  }
 },
 "nbformat": 4,
 "nbformat_minor": 5
}
