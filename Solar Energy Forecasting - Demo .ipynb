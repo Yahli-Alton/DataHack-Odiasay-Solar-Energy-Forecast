{
 "cells": [
  {
   "cell_type": "code",
   "execution_count": 3,
   "metadata": {
    "ExecuteTime": {
     "end_time": "2025-03-26T18:21:52.232057Z",
     "start_time": "2025-03-26T18:21:52.227163Z"
    }
   },
   "outputs": [],
   "source": [
    "import numpy as np\n",
    "import pandas as pd\n",
    "import seaborn as sns\n",
    "import matplotlib.pyplot as plt\n",
    "from sklearn.linear_model import Ridge\n",
    "from sklearn.model_selection import train_test_split\n",
    "from sklearn.metrics import mean_absolute_error, mean_squared_error\n",
    "\n",
    "from solar_energy_forecast.preprocess import get_data"
   ]
  },
  {
   "cell_type": "code",
   "execution_count": null,
   "metadata": {},
   "outputs": [],
   "source": []
  },
  {
   "cell_type": "code",
   "execution_count": 5,
   "metadata": {
    "ExecuteTime": {
     "end_time": "2025-03-26T16:34:08.918491Z",
     "start_time": "2025-03-26T16:34:08.768183Z"
    }
   },
   "outputs": [
    {
     "name": "stdout",
     "output_type": "stream",
     "text": [
      "\n",
      "## PV data:\n",
      "                  count     mean       std  min     50%     max\n",
      "relative_power  20571.0  0.23569  0.252558  0.0  0.1297  1.0169\n",
      "\n",
      "## Solar data:\n",
      "                      count     mean     std     min      50%      max\n",
      "DHI                 43824.0    62.52   93.97    0.00     0.00   476.00\n",
      "DNI                 43824.0   192.04  308.79    0.00     0.00  1029.00\n",
      "GHI                 43824.0   167.16  252.45    0.00     0.00  1022.00\n",
      "Clearsky DHI        43824.0    48.26   59.40    0.00     0.00   416.00\n",
      "Clearsky DNI        43824.0   327.65  367.59    0.00     0.00  1029.00\n",
      "Clearsky GHI        43824.0   227.65  300.72    0.00     0.00  1022.00\n",
      "Cloud Type          43824.0     3.42    3.05    0.00     4.00    10.00\n",
      "Dew Point           43824.0     6.72    8.95  -19.00     7.00    24.00\n",
      "Solar Zenith Angle  43824.0    89.68   35.05   18.95    89.57   161.15\n",
      "Fill Flag           43824.0     1.93   11.52    0.00     0.00   100.00\n",
      "Surface Albedo      43824.0     0.23    0.26    0.11     0.13     0.87\n",
      "Wind Speed          43824.0     2.64    1.34    0.10     2.40    11.00\n",
      "Relative Humidity   43824.0    83.09   15.59   29.82    86.73   100.00\n",
      "Temperature         43824.0     9.93    9.41  -19.00    10.00    33.40\n",
      "Pressure            43824.0  1008.49    8.99  970.00  1010.00  1040.00\n",
      "\n",
      "## Weather data:\n",
      "                     count     mean    std     min     50%     max\n",
      "maxtempC           36600.0    13.32   9.86   -12.0    14.0    32.0\n",
      "mintempC           36600.0     7.07   8.96   -21.0     8.0    23.0\n",
      "totalSnow_cm       36600.0     0.15   0.98     0.0     0.0    22.2\n",
      "sunHour            36600.0     9.86   3.48     3.4     9.3    14.5\n",
      "uvIndex            36600.0     3.53   1.75     1.0     3.0     7.0\n",
      "moon_illumination  36600.0    50.08  28.92     0.0    50.0   100.0\n",
      "DewPointC          36600.0     5.82   9.48   -22.0     6.0    25.0\n",
      "FeelsLikeC         36600.0     7.93  11.98   -33.0     8.0    36.0\n",
      "HeatIndexC         36600.0    10.43   9.79   -21.0    11.0    36.0\n",
      "WindChillC         36600.0     7.76  11.72   -33.0     8.0    32.0\n",
      "WindGustKmph       36600.0    25.68  12.23     0.0    25.0   100.0\n",
      "cloudcover         36600.0    41.15  35.26     0.0    31.0   100.0\n",
      "humidity           36600.0    75.93  14.61    19.0    78.0   100.0\n",
      "precipMM           36600.0     0.10   0.40     0.0     0.0    10.0\n",
      "pressure           36600.0  1016.61   8.19   975.0  1016.0  1045.0\n",
      "tempC              36600.0    10.15   9.41   -21.0    11.0    32.0\n",
      "visibility         36600.0     9.11   2.11     0.0    10.0    10.0\n",
      "winddirDegree      36600.0   202.36  92.74     0.0   216.0   360.0\n",
      "windspeedKmph      36600.0    16.14   8.03     0.0    15.0    70.0\n",
      "location           36600.0  2340.00   0.00  2340.0  2340.0  2340.0\n",
      "\n",
      "## Complete Dataset:\n",
      "<class 'pandas.core.frame.DataFrame'>\n",
      "DatetimeIndex: 20571 entries, 2014-01-01 07:00:00 to 2018-03-05 17:00:00\n",
      "Data columns (total 40 columns):\n",
      " #   Column              Non-Null Count  Dtype  \n",
      "---  ------              --------------  -----  \n",
      " 0   relative_power      20571 non-null  float64\n",
      " 1   DHI                 20571 non-null  int64  \n",
      " 2   DNI                 20571 non-null  int64  \n",
      " 3   GHI                 20571 non-null  int64  \n",
      " 4   Clearsky DHI        20571 non-null  int64  \n",
      " 5   Clearsky DNI        20571 non-null  int64  \n",
      " 6   Clearsky GHI        20571 non-null  int64  \n",
      " 7   Cloud Type          20571 non-null  int64  \n",
      " 8   Dew Point           20571 non-null  float64\n",
      " 9   Solar Zenith Angle  20571 non-null  float64\n",
      " 10  Fill Flag           20571 non-null  int64  \n",
      " 11  Surface Albedo      20571 non-null  float64\n",
      " 12  Wind Speed          20571 non-null  float64\n",
      " 13  Relative Humidity   20571 non-null  float64\n",
      " 14  Temperature         20571 non-null  float64\n",
      " 15  Pressure            20571 non-null  int64  \n",
      " 16  maxtempC            20571 non-null  int64  \n",
      " 17  mintempC            20571 non-null  int64  \n",
      " 18  totalSnow_cm        20571 non-null  float64\n",
      " 19  sunHour             20571 non-null  float64\n",
      " 20  uvIndex             20571 non-null  int64  \n",
      " 21  moon_illumination   20571 non-null  int64  \n",
      " 22  moonrise            20571 non-null  object \n",
      " 23  moonset             20571 non-null  object \n",
      " 24  sunrise             20571 non-null  object \n",
      " 25  sunset              20571 non-null  object \n",
      " 26  DewPointC           20571 non-null  int64  \n",
      " 27  FeelsLikeC          20571 non-null  int64  \n",
      " 28  HeatIndexC          20571 non-null  int64  \n",
      " 29  WindChillC          20571 non-null  int64  \n",
      " 30  WindGustKmph        20571 non-null  int64  \n",
      " 31  cloudcover          20571 non-null  int64  \n",
      " 32  humidity            20571 non-null  int64  \n",
      " 33  precipMM            20571 non-null  float64\n",
      " 34  pressure            20571 non-null  int64  \n",
      " 35  tempC               20571 non-null  int64  \n",
      " 36  visibility          20571 non-null  int64  \n",
      " 37  winddirDegree       20571 non-null  int64  \n",
      " 38  windspeedKmph       20571 non-null  int64  \n",
      " 39  location            20571 non-null  int64  \n",
      "dtypes: float64(10), int64(26), object(4)\n",
      "memory usage: 6.4+ MB\n",
      "None\n"
     ]
    }
   ],
   "source": [
    "df = get_data(verbose=True)"
   ]
  },
  {
   "cell_type": "code",
   "execution_count": 44,
   "metadata": {
    "ExecuteTime": {
     "end_time": "2025-03-26T18:23:01.516012Z",
     "start_time": "2025-03-26T18:23:01.447356Z"
    }
   },
   "outputs": [
    {
     "data": {
      "image/png": "[encoded data removed]",
      "text/plain": [
       "<Figure size 640x480 with 1 Axes>"
      ]
     },
     "metadata": {},
     "output_type": "display_data"
    }
   ],
   "source": [
    "df[\"hour\"] = df.index.hour\n",
    "sns.lineplot(df, y=\"relative_power\", x=\"hour\", errorbar=\"sd\")\n",
    "plt.savefig('output/relative_power_by_hour.png')"
   ]
  },
  {
   "cell_type": "code",
   "execution_count": 7,
   "metadata": {
    "ExecuteTime": {
     "end_time": "2025-03-26T18:23:56.084604Z",
     "start_time": "2025-03-26T18:23:56.018479Z"
    },
    "scrolled": true
   },
   "outputs": [
    {
     "data": {
      "image/png": "[encoded data removed]",
      "text/plain": [
       "<Figure size 640x480 with 1 Axes>"
      ]
     },
     "metadata": {},
     "output_type": "display_data"
    }
   ],
   "source": [
    "df[\"day_of_year\"] = df.index.day_of_year\n",
    "df[\"date\"] = df.index.date\n",
    "df[\"week\"] = df.index.day_of_year // 7\n",
    "sns.lineplot(\n",
    "    df.groupby(\"date\").agg(avg_relative_power=(\"relative_power\", \"mean\"), week=(\"week\", \"first\")),\n",
    "    y=\"avg_relative_power\", x=\"week\", errorbar=\"sd\", estimator='mean')\n",
    "plt.savefig('output/avg_relative_power_by_week.png')"
   ]
  },
  {
   "cell_type": "markdown",
   "metadata": {},
   "source": [
    "## Data Modification"
   ]
  },
  {
   "cell_type": "code",
   "execution_count": null,
   "metadata": {},
   "outputs": [],
   "source": []
  },
  {
   "cell_type": "code",
   "execution_count": null,
   "metadata": {},
   "outputs": [],
   "source": []
  },
  {
   "cell_type": "markdown",
   "metadata": {},
   "source": [
    "## Training"
   ]
  },
  {
   "cell_type": "code",
   "execution_count": null,
   "metadata": {
    "ExecuteTime": {
     "end_time": "2025-03-26T16:37:10.679184Z",
     "start_time": "2025-03-26T16:37:10.669843Z"
    }
   },
   "outputs": [],
   "source": [
    "X = df.select_dtypes(include='number').drop(columns=\"relative_power\")\n",
    "y = df[\"relative_power\"]\n",
    "X_train, X_test, y_train, y_test = train_test_split(X, y, test_size=0.2, random_state=42)"
   ]
  },
  {
   "cell_type": "code",
   "execution_count": 11,
   "metadata": {
    "ExecuteTime": {
     "end_time": "2025-03-26T16:37:11.294938Z",
     "start_time": "2025-03-26T16:37:11.283749Z"
    }
   },
   "outputs": [
    {
     "data": {
      "text/html": [
       "<style>#sk-container-id-1 {color: black;}#sk-container-id-1 pre{padding: 0;}#sk-container-id-1 div.sk-toggleable {background-color: white;}#sk-container-id-1 label.sk-toggleable__label {cursor: pointer;display: block;width: 100%;margin-bottom: 0;padding: 0.3em;box-sizing: border-box;text-align: center;}#sk-container-id-1 label.sk-toggleable__label-arrow:before {content: \"▸\";float: left;margin-right: 0.25em;color: #696969;}#sk-container-id-1 label.sk-toggleable__label-arrow:hover:before {color: black;}#sk-container-id-1 div.sk-estimator:hover label.sk-toggleable__label-arrow:before {color: black;}#sk-container-id-1 div.sk-toggleable__content {max-height: 0;max-width: 0;overflow: hidden;text-align: left;background-color: #f0f8ff;}#sk-container-id-1 div.sk-toggleable__content pre {margin: 0.2em;color: black;border-radius: 0.25em;background-color: #f0f8ff;}#sk-container-id-1 input.sk-toggleable__control:checked~div.sk-toggleable__content {max-height: 200px;max-width: 100%;overflow: auto;}#sk-container-id-1 input.sk-toggleable__control:checked~label.sk-toggleable__label-arrow:before {content: \"▾\";}#sk-container-id-1 div.sk-estimator input.sk-toggleable__control:checked~label.sk-toggleable__label {background-color: #d4ebff;}#sk-container-id-1 div.sk-label input.sk-toggleable__control:checked~label.sk-toggleable__label {background-color: #d4ebff;}#sk-container-id-1 input.sk-hidden--visually {border: 0;clip: rect(1px 1px 1px 1px);clip: rect(1px, 1px, 1px, 1px);height: 1px;margin: -1px;overflow: hidden;padding: 0;position: absolute;width: 1px;}#sk-container-id-1 div.sk-estimator {font-family: monospace;background-color: #f0f8ff;border: 1px dotted black;border-radius: 0.25em;box-sizing: border-box;margin-bottom: 0.5em;}#sk-container-id-1 div.sk-estimator:hover {background-color: #d4ebff;}#sk-container-id-1 div.sk-parallel-item::after {content: \"\";width: 100%;border-bottom: 1px solid gray;flex-grow: 1;}#sk-container-id-1 div.sk-label:hover label.sk-toggleable__label {background-color: #d4ebff;}#sk-container-id-1 div.sk-serial::before {content: \"\";position: absolute;border-left: 1px solid gray;box-sizing: border-box;top: 0;bottom: 0;left: 50%;z-index: 0;}#sk-container-id-1 div.sk-serial {display: flex;flex-direction: column;align-items: center;background-color: white;padding-right: 0.2em;padding-left: 0.2em;position: relative;}#sk-container-id-1 div.sk-item {position: relative;z-index: 1;}#sk-container-id-1 div.sk-parallel {display: flex;align-items: stretch;justify-content: center;background-color: white;position: relative;}#sk-container-id-1 div.sk-item::before, #sk-container-id-1 div.sk-parallel-item::before {content: \"\";position: absolute;border-left: 1px solid gray;box-sizing: border-box;top: 0;bottom: 0;left: 50%;z-index: -1;}#sk-container-id-1 div.sk-parallel-item {display: flex;flex-direction: column;z-index: 1;position: relative;background-color: white;}#sk-container-id-1 div.sk-parallel-item:first-child::after {align-self: flex-end;width: 50%;}#sk-container-id-1 div.sk-parallel-item:last-child::after {align-self: flex-start;width: 50%;}#sk-container-id-1 div.sk-parallel-item:only-child::after {width: 0;}#sk-container-id-1 div.sk-dashed-wrapped {border: 1px dashed gray;margin: 0 0.4em 0.5em 0.4em;box-sizing: border-box;padding-bottom: 0.4em;background-color: white;}#sk-container-id-1 div.sk-label label {font-family: monospace;font-weight: bold;display: inline-block;line-height: 1.2em;}#sk-container-id-1 div.sk-label-container {text-align: center;}#sk-container-id-1 div.sk-container {/* jupyter's `normalize.less` sets `[hidden] { display: none; }` but bootstrap.min.css set `[hidden] { display: none !important; }` so we also need the `!important` here to be able to override the default hidden behavior on the sphinx rendered scikit-learn.org. See: https://github.com/scikit-learn/scikit-learn/issues/21755 */display: inline-block !important;position: relative;}#sk-container-id-1 div.sk-text-repr-fallback {display: none;}</style><div id=\"sk-container-id-1\" class=\"sk-top-container\"><div class=\"sk-text-repr-fallback\"><pre>Ridge()</pre><b>In a Jupyter environment, please rerun this cell to show the HTML representation or trust the notebook. <br />On GitHub, the HTML representation is unable to render, please try loading this page with nbviewer.org.</b></div><div class=\"sk-container\" hidden><div class=\"sk-item\"><div class=\"sk-estimator sk-toggleable\"><input class=\"sk-toggleable__control sk-hidden--visually\" id=\"sk-estimator-id-1\" type=\"checkbox\" checked><label for=\"sk-estimator-id-1\" class=\"sk-toggleable__label sk-toggleable__label-arrow\">Ridge</label><div class=\"sk-toggleable__content\"><pre>Ridge()</pre></div></div></div></div></div>"
      ],
      "text/plain": [
       "Ridge()"
      ]
     },
     "execution_count": 11,
     "metadata": {},
     "output_type": "execute_result"
    }
   ],
   "source": [
    "clf = Ridge(alpha=1.0)\n",
    "clf.fit(X_train, y_train)"
   ]
  },
  {
   "cell_type": "code",
   "execution_count": 17,
   "metadata": {},
   "outputs": [
    {
     "data": {
      "text/plain": [
       "37"
      ]
     },
     "execution_count": 17,
     "metadata": {},
     "output_type": "execute_result"
    }
   ],
   "source": [
    "len(clf.coef_)"
   ]
  },
  {
   "cell_type": "code",
   "execution_count": 19,
   "metadata": {},
   "outputs": [
    {
     "data": {
      "text/plain": [
       "(20571, 43)"
      ]
     },
     "execution_count": 19,
     "metadata": {},
     "output_type": "execute_result"
    }
   ],
   "source": [
    "df.shape"
   ]
  },
  {
   "cell_type": "code",
   "execution_count": 25,
   "metadata": {},
   "outputs": [
    {
     "data": {
      "text/html": [
       "<div>\n",
       "<style scoped>\n",
       "    .dataframe tbody tr th:only-of-type {\n",
       "        vertical-align: middle;\n",
       "    }\n",
       "\n",
       "    .dataframe tbody tr th {\n",
       "        vertical-align: top;\n",
       "    }\n",
       "\n",
       "    .dataframe thead th {\n",
       "        text-align: right;\n",
       "    }\n",
       "</style>\n",
       "<table border=\"1\" class=\"dataframe\">\n",
       "  <thead>\n",
       "    <tr style=\"text-align: right;\">\n",
       "      <th></th>\n",
       "      <th>moonrise</th>\n",
       "      <th>moonset</th>\n",
       "      <th>sunrise</th>\n",
       "      <th>sunset</th>\n",
       "      <th>date</th>\n",
       "    </tr>\n",
       "    <tr>\n",
       "      <th>date_time</th>\n",
       "      <th></th>\n",
       "      <th></th>\n",
       "      <th></th>\n",
       "      <th></th>\n",
       "      <th></th>\n",
       "    </tr>\n",
       "  </thead>\n",
       "  <tbody>\n",
       "    <tr>\n",
       "      <th>2014-01-01 07:00:00</th>\n",
       "      <td>06:58 AM</td>\n",
       "      <td>05:05 PM</td>\n",
       "      <td>07:12 AM</td>\n",
       "      <td>04:22 PM</td>\n",
       "      <td>2014-01-01</td>\n",
       "    </tr>\n",
       "    <tr>\n",
       "      <th>2014-01-01 08:00:00</th>\n",
       "      <td>06:58 AM</td>\n",
       "      <td>05:05 PM</td>\n",
       "      <td>07:12 AM</td>\n",
       "      <td>04:22 PM</td>\n",
       "      <td>2014-01-01</td>\n",
       "    </tr>\n",
       "    <tr>\n",
       "      <th>2014-01-01 09:00:00</th>\n",
       "      <td>06:58 AM</td>\n",
       "      <td>05:05 PM</td>\n",
       "      <td>07:12 AM</td>\n",
       "      <td>04:22 PM</td>\n",
       "      <td>2014-01-01</td>\n",
       "    </tr>\n",
       "    <tr>\n",
       "      <th>2014-01-01 10:00:00</th>\n",
       "      <td>06:58 AM</td>\n",
       "      <td>05:05 PM</td>\n",
       "      <td>07:12 AM</td>\n",
       "      <td>04:22 PM</td>\n",
       "      <td>2014-01-01</td>\n",
       "    </tr>\n",
       "    <tr>\n",
       "      <th>2014-01-01 11:00:00</th>\n",
       "      <td>06:58 AM</td>\n",
       "      <td>05:05 PM</td>\n",
       "      <td>07:12 AM</td>\n",
       "      <td>04:22 PM</td>\n",
       "      <td>2014-01-01</td>\n",
       "    </tr>\n",
       "    <tr>\n",
       "      <th>...</th>\n",
       "      <td>...</td>\n",
       "      <td>...</td>\n",
       "      <td>...</td>\n",
       "      <td>...</td>\n",
       "      <td>...</td>\n",
       "    </tr>\n",
       "    <tr>\n",
       "      <th>2018-03-05 13:00:00</th>\n",
       "      <td>09:49 PM</td>\n",
       "      <td>08:24 AM</td>\n",
       "      <td>06:12 AM</td>\n",
       "      <td>05:38 PM</td>\n",
       "      <td>2018-03-05</td>\n",
       "    </tr>\n",
       "    <tr>\n",
       "      <th>2018-03-05 14:00:00</th>\n",
       "      <td>09:49 PM</td>\n",
       "      <td>08:24 AM</td>\n",
       "      <td>06:12 AM</td>\n",
       "      <td>05:38 PM</td>\n",
       "      <td>2018-03-05</td>\n",
       "    </tr>\n",
       "    <tr>\n",
       "      <th>2018-03-05 15:00:00</th>\n",
       "      <td>09:49 PM</td>\n",
       "      <td>08:24 AM</td>\n",
       "      <td>06:12 AM</td>\n",
       "      <td>05:38 PM</td>\n",
       "      <td>2018-03-05</td>\n",
       "    </tr>\n",
       "    <tr>\n",
       "      <th>2018-03-05 16:00:00</th>\n",
       "      <td>09:49 PM</td>\n",
       "      <td>08:24 AM</td>\n",
       "      <td>06:12 AM</td>\n",
       "      <td>05:38 PM</td>\n",
       "      <td>2018-03-05</td>\n",
       "    </tr>\n",
       "    <tr>\n",
       "      <th>2018-03-05 17:00:00</th>\n",
       "      <td>09:49 PM</td>\n",
       "      <td>08:24 AM</td>\n",
       "      <td>06:12 AM</td>\n",
       "      <td>05:38 PM</td>\n",
       "      <td>2018-03-05</td>\n",
       "    </tr>\n",
       "  </tbody>\n",
       "</table>\n",
       "<p>20571 rows × 5 columns</p>\n",
       "</div>"
      ],
      "text/plain": [
       "                     moonrise   moonset   sunrise    sunset        date\n",
       "date_time                                                              \n",
       "2014-01-01 07:00:00  06:58 AM  05:05 PM  07:12 AM  04:22 PM  2014-01-01\n",
       "2014-01-01 08:00:00  06:58 AM  05:05 PM  07:12 AM  04:22 PM  2014-01-01\n",
       "2014-01-01 09:00:00  06:58 AM  05:05 PM  07:12 AM  04:22 PM  2014-01-01\n",
       "2014-01-01 10:00:00  06:58 AM  05:05 PM  07:12 AM  04:22 PM  2014-01-01\n",
       "2014-01-01 11:00:00  06:58 AM  05:05 PM  07:12 AM  04:22 PM  2014-01-01\n",
       "...                       ...       ...       ...       ...         ...\n",
       "2018-03-05 13:00:00  09:49 PM  08:24 AM  06:12 AM  05:38 PM  2018-03-05\n",
       "2018-03-05 14:00:00  09:49 PM  08:24 AM  06:12 AM  05:38 PM  2018-03-05\n",
       "2018-03-05 15:00:00  09:49 PM  08:24 AM  06:12 AM  05:38 PM  2018-03-05\n",
       "2018-03-05 16:00:00  09:49 PM  08:24 AM  06:12 AM  05:38 PM  2018-03-05\n",
       "2018-03-05 17:00:00  09:49 PM  08:24 AM  06:12 AM  05:38 PM  2018-03-05\n",
       "\n",
       "[20571 rows x 5 columns]"
      ]
     },
     "execution_count": 25,
     "metadata": {},
     "output_type": "execute_result"
    }
   ],
   "source": [
    "df.select_dtypes(include='object')"
   ]
  },
  {
   "cell_type": "markdown",
   "metadata": {},
   "source": [
    "## Evaluation"
   ]
  },
  {
   "cell_type": "code",
   "execution_count": 8,
   "metadata": {
    "ExecuteTime": {
     "end_time": "2025-03-26T16:37:12.509414Z",
     "start_time": "2025-03-26T16:37:12.505182Z"
    }
   },
   "outputs": [],
   "source": [
    "y_pred = clf.predict(X_test)\n",
    "y_pred = np.where(y_pred > 0, y_pred, 0)"
   ]
  },
  {
   "cell_type": "code",
   "execution_count": 9,
   "metadata": {
    "ExecuteTime": {
     "end_time": "2025-03-26T16:37:13.030712Z",
     "start_time": "2025-03-26T16:37:13.023961Z"
    }
   },
   "outputs": [
    {
     "data": {
      "text/plain": [
       "{'RMSE': 0.018460188057809863,\n",
       " 'MAE': 0.10102556232005339,\n",
       " 'nRMSE': 1.2932359165550544}"
      ]
     },
     "execution_count": 9,
     "metadata": {},
     "output_type": "execute_result"
    }
   ],
   "source": [
    "rmse = mean_squared_error(y_test, y_pred)\n",
    "mae = mean_absolute_error(y_test, y_pred)\n",
    "normlized_rmse = np.mean(\n",
    "    mean_squared_error(y_test, y_pred, multioutput='raw_values') /\n",
    "    np.max(np.stack([y_pred, y_test.to_numpy()]), axis=0)\n",
    ")\n",
    "{\"RMSE\": rmse, \"MAE\": mae, \"nRMSE\": float(normlized_rmse)}"
   ]
  },
  {
   "cell_type": "markdown",
   "metadata": {},
   "source": [
    "## Analysis"
   ]
  },
  {
   "cell_type": "code",
   "execution_count": 30,
   "metadata": {
    "ExecuteTime": {
     "end_time": "2025-03-26T17:59:32.877972Z",
     "start_time": "2025-03-26T17:59:32.872154Z"
    }
   },
   "outputs": [
    {
     "data": {
      "text/html": [
       "<div>\n",
       "<style scoped>\n",
       "    .dataframe tbody tr th:only-of-type {\n",
       "        vertical-align: middle;\n",
       "    }\n",
       "\n",
       "    .dataframe tbody tr th {\n",
       "        vertical-align: top;\n",
       "    }\n",
       "\n",
       "    .dataframe thead th {\n",
       "        text-align: right;\n",
       "    }\n",
       "</style>\n",
       "<table border=\"1\" class=\"dataframe\">\n",
       "  <thead>\n",
       "    <tr style=\"text-align: right;\">\n",
       "      <th></th>\n",
       "      <th>mean_value</th>\n",
       "      <th>coef</th>\n",
       "      <th>mean_weight</th>\n",
       "    </tr>\n",
       "  </thead>\n",
       "  <tbody>\n",
       "    <tr>\n",
       "      <th>tempC</th>\n",
       "      <td>12.409820</td>\n",
       "      <td>0.040879</td>\n",
       "      <td>0.507299</td>\n",
       "    </tr>\n",
       "    <tr>\n",
       "      <th>windspeedKmph</th>\n",
       "      <td>15.960379</td>\n",
       "      <td>0.012420</td>\n",
       "      <td>0.198235</td>\n",
       "    </tr>\n",
       "    <tr>\n",
       "      <th>week</th>\n",
       "      <td>25.173554</td>\n",
       "      <td>0.007387</td>\n",
       "      <td>0.185961</td>\n",
       "    </tr>\n",
       "    <tr>\n",
       "      <th>FeelsLikeC</th>\n",
       "      <td>10.740459</td>\n",
       "      <td>0.010531</td>\n",
       "      <td>0.113103</td>\n",
       "    </tr>\n",
       "    <tr>\n",
       "      <th>Relative Humidity</th>\n",
       "      <td>81.493597</td>\n",
       "      <td>0.001126</td>\n",
       "      <td>0.091777</td>\n",
       "    </tr>\n",
       "    <tr>\n",
       "      <th>HeatIndexC</th>\n",
       "      <td>12.819336</td>\n",
       "      <td>0.002971</td>\n",
       "      <td>0.038083</td>\n",
       "    </tr>\n",
       "    <tr>\n",
       "      <th>sunHour</th>\n",
       "      <td>10.395704</td>\n",
       "      <td>0.003446</td>\n",
       "      <td>0.035819</td>\n",
       "    </tr>\n",
       "    <tr>\n",
       "      <th>Clearsky DHI</th>\n",
       "      <td>66.853731</td>\n",
       "      <td>0.000529</td>\n",
       "      <td>0.035393</td>\n",
       "    </tr>\n",
       "    <tr>\n",
       "      <th>DNI</th>\n",
       "      <td>259.853488</td>\n",
       "      <td>0.000130</td>\n",
       "      <td>0.033705</td>\n",
       "    </tr>\n",
       "    <tr>\n",
       "      <th>DHI</th>\n",
       "      <td>90.495564</td>\n",
       "      <td>0.000248</td>\n",
       "      <td>0.022475</td>\n",
       "    </tr>\n",
       "    <tr>\n",
       "      <th>Clearsky DNI</th>\n",
       "      <td>431.640010</td>\n",
       "      <td>0.000028</td>\n",
       "      <td>0.012022</td>\n",
       "    </tr>\n",
       "    <tr>\n",
       "      <th>moon_illumination</th>\n",
       "      <td>50.252127</td>\n",
       "      <td>0.000065</td>\n",
       "      <td>0.003267</td>\n",
       "    </tr>\n",
       "    <tr>\n",
       "      <th>visibility</th>\n",
       "      <td>9.287372</td>\n",
       "      <td>0.000098</td>\n",
       "      <td>0.000911</td>\n",
       "    </tr>\n",
       "    <tr>\n",
       "      <th>location</th>\n",
       "      <td>2340.000000</td>\n",
       "      <td>0.000000</td>\n",
       "      <td>0.000000</td>\n",
       "    </tr>\n",
       "    <tr>\n",
       "      <th>totalSnow_cm</th>\n",
       "      <td>0.114973</td>\n",
       "      <td>-0.000315</td>\n",
       "      <td>-0.000036</td>\n",
       "    </tr>\n",
       "    <tr>\n",
       "      <th>precipMM</th>\n",
       "      <td>0.105688</td>\n",
       "      <td>-0.001075</td>\n",
       "      <td>-0.000114</td>\n",
       "    </tr>\n",
       "    <tr>\n",
       "      <th>WindChillC</th>\n",
       "      <td>10.458982</td>\n",
       "      <td>-0.000022</td>\n",
       "      <td>-0.000235</td>\n",
       "    </tr>\n",
       "    <tr>\n",
       "      <th>Fill Flag</th>\n",
       "      <td>0.550255</td>\n",
       "      <td>-0.000601</td>\n",
       "      <td>-0.000331</td>\n",
       "    </tr>\n",
       "    <tr>\n",
       "      <th>GHI</th>\n",
       "      <td>246.846621</td>\n",
       "      <td>-0.000022</td>\n",
       "      <td>-0.005512</td>\n",
       "    </tr>\n",
       "    <tr>\n",
       "      <th>Wind Speed</th>\n",
       "      <td>2.594634</td>\n",
       "      <td>-0.002363</td>\n",
       "      <td>-0.006130</td>\n",
       "    </tr>\n",
       "    <tr>\n",
       "      <th>Surface Albedo</th>\n",
       "      <td>0.213918</td>\n",
       "      <td>-0.041476</td>\n",
       "      <td>-0.008873</td>\n",
       "    </tr>\n",
       "    <tr>\n",
       "      <th>Pressure</th>\n",
       "      <td>1007.611084</td>\n",
       "      <td>-0.000011</td>\n",
       "      <td>-0.010974</td>\n",
       "    </tr>\n",
       "    <tr>\n",
       "      <th>winddirDegree</th>\n",
       "      <td>192.949866</td>\n",
       "      <td>-0.000075</td>\n",
       "      <td>-0.014382</td>\n",
       "    </tr>\n",
       "    <tr>\n",
       "      <th>Cloud Type</th>\n",
       "      <td>3.326811</td>\n",
       "      <td>-0.004512</td>\n",
       "      <td>-0.015011</td>\n",
       "    </tr>\n",
       "    <tr>\n",
       "      <th>cloudcover</th>\n",
       "      <td>39.884844</td>\n",
       "      <td>-0.000827</td>\n",
       "      <td>-0.032979</td>\n",
       "    </tr>\n",
       "    <tr>\n",
       "      <th>Dew Point</th>\n",
       "      <td>7.131162</td>\n",
       "      <td>-0.005868</td>\n",
       "      <td>-0.041842</td>\n",
       "    </tr>\n",
       "    <tr>\n",
       "      <th>DewPointC</th>\n",
       "      <td>7.132535</td>\n",
       "      <td>-0.009249</td>\n",
       "      <td>-0.065967</td>\n",
       "    </tr>\n",
       "    <tr>\n",
       "      <th>Temperature</th>\n",
       "      <td>10.781472</td>\n",
       "      <td>-0.006240</td>\n",
       "      <td>-0.067273</td>\n",
       "    </tr>\n",
       "    <tr>\n",
       "      <th>uvIndex</th>\n",
       "      <td>3.753889</td>\n",
       "      <td>-0.018943</td>\n",
       "      <td>-0.071110</td>\n",
       "    </tr>\n",
       "    <tr>\n",
       "      <th>Clearsky GHI</th>\n",
       "      <td>328.062591</td>\n",
       "      <td>-0.000289</td>\n",
       "      <td>-0.094938</td>\n",
       "    </tr>\n",
       "    <tr>\n",
       "      <th>mintempC</th>\n",
       "      <td>8.293814</td>\n",
       "      <td>-0.012151</td>\n",
       "      <td>-0.100775</td>\n",
       "    </tr>\n",
       "    <tr>\n",
       "      <th>humidity</th>\n",
       "      <td>71.810950</td>\n",
       "      <td>-0.001867</td>\n",
       "      <td>-0.134047</td>\n",
       "    </tr>\n",
       "    <tr>\n",
       "      <th>WindGustKmph</th>\n",
       "      <td>24.235841</td>\n",
       "      <td>-0.007288</td>\n",
       "      <td>-0.176640</td>\n",
       "    </tr>\n",
       "    <tr>\n",
       "      <th>day_of_year</th>\n",
       "      <td>179.196767</td>\n",
       "      <td>-0.001294</td>\n",
       "      <td>-0.231959</td>\n",
       "    </tr>\n",
       "    <tr>\n",
       "      <th>maxtempC</th>\n",
       "      <td>14.679631</td>\n",
       "      <td>-0.018728</td>\n",
       "      <td>-0.274920</td>\n",
       "    </tr>\n",
       "    <tr>\n",
       "      <th>hour</th>\n",
       "      <td>11.957766</td>\n",
       "      <td>-0.026065</td>\n",
       "      <td>-0.311684</td>\n",
       "    </tr>\n",
       "    <tr>\n",
       "      <th>Solar Zenith Angle</th>\n",
       "      <td>77.945991</td>\n",
       "      <td>-0.004525</td>\n",
       "      <td>-0.352687</td>\n",
       "    </tr>\n",
       "    <tr>\n",
       "      <th>pressure</th>\n",
       "      <td>1016.417173</td>\n",
       "      <td>-0.000364</td>\n",
       "      <td>-0.369764</td>\n",
       "    </tr>\n",
       "  </tbody>\n",
       "</table>\n",
       "</div>"
      ],
      "text/plain": [
       "                     mean_value      coef  mean_weight\n",
       "tempC                 12.409820  0.040879     0.507299\n",
       "windspeedKmph         15.960379  0.012420     0.198235\n",
       "week                  25.173554  0.007387     0.185961\n",
       "FeelsLikeC            10.740459  0.010531     0.113103\n",
       "Relative Humidity     81.493597  0.001126     0.091777\n",
       "HeatIndexC            12.819336  0.002971     0.038083\n",
       "sunHour               10.395704  0.003446     0.035819\n",
       "Clearsky DHI          66.853731  0.000529     0.035393\n",
       "DNI                  259.853488  0.000130     0.033705\n",
       "DHI                   90.495564  0.000248     0.022475\n",
       "Clearsky DNI         431.640010  0.000028     0.012022\n",
       "moon_illumination     50.252127  0.000065     0.003267\n",
       "visibility             9.287372  0.000098     0.000911\n",
       "location            2340.000000  0.000000     0.000000\n",
       "totalSnow_cm           0.114973 -0.000315    -0.000036\n",
       "precipMM               0.105688 -0.001075    -0.000114\n",
       "WindChillC            10.458982 -0.000022    -0.000235\n",
       "Fill Flag              0.550255 -0.000601    -0.000331\n",
       "GHI                  246.846621 -0.000022    -0.005512\n",
       "Wind Speed             2.594634 -0.002363    -0.006130\n",
       "Surface Albedo         0.213918 -0.041476    -0.008873\n",
       "Pressure            1007.611084 -0.000011    -0.010974\n",
       "winddirDegree        192.949866 -0.000075    -0.014382\n",
       "Cloud Type             3.326811 -0.004512    -0.015011\n",
       "cloudcover            39.884844 -0.000827    -0.032979\n",
       "Dew Point              7.131162 -0.005868    -0.041842\n",
       "DewPointC              7.132535 -0.009249    -0.065967\n",
       "Temperature           10.781472 -0.006240    -0.067273\n",
       "uvIndex                3.753889 -0.018943    -0.071110\n",
       "Clearsky GHI         328.062591 -0.000289    -0.094938\n",
       "mintempC               8.293814 -0.012151    -0.100775\n",
       "humidity              71.810950 -0.001867    -0.134047\n",
       "WindGustKmph          24.235841 -0.007288    -0.176640\n",
       "day_of_year          179.196767 -0.001294    -0.231959\n",
       "maxtempC              14.679631 -0.018728    -0.274920\n",
       "hour                  11.957766 -0.026065    -0.311684\n",
       "Solar Zenith Angle    77.945991 -0.004525    -0.352687\n",
       "pressure            1016.417173 -0.000364    -0.369764"
      ]
     },
     "execution_count": 30,
     "metadata": {},
     "output_type": "execute_result"
    }
   ],
   "source": [
    "df_params = X_train.mean().rename(\"mean_value\").to_frame()\n",
    "df_params[\"coef\"] = clf.coef_\n",
    "df_params[\"mean_weight\"] = df_params[\"coef\"] * df_params[\"mean_value\"]\n",
    "df_params.sort_values(\"mean_weight\", ascending=False, inplace=True)\n",
    "df_params"
   ]
  },
  {
   "cell_type": "code",
   "execution_count": 41,
   "metadata": {
    "ExecuteTime": {
     "end_time": "2025-03-26T18:07:24.480609Z",
     "start_time": "2025-03-26T18:07:24.438664Z"
    }
   },
   "outputs": [
    {
     "data": {
      "text/plain": [
       "<Axes: >"
      ]
     },
     "execution_count": 41,
     "metadata": {},
     "output_type": "execute_result"
    },
    {
     "data": {
      "image/png": "[encoded data removed]",
      "text/plain": [
       "<Figure size 640x480 with 1 Axes>"
      ]
     },
     "metadata": {},
     "output_type": "display_data"
    }
   ],
   "source": [
    "df_params[df_params[\"mean_weight\"] > 0][\"mean_weight\"].plot(kind=\"bar\")"
   ]
  },
  {
   "cell_type": "code",
   "execution_count": null,
   "metadata": {},
   "outputs": [],
   "source": []
  }
 ],
 "metadata": {
  "kernelspec": {
   "display_name": "Python 3 (ipykernel)",
   "language": "python",
   "name": "python3"
  },
  "language_info": {
   "codemirror_mode": {
    "name": "ipython",
    "version": 3
   },
   "file_extension": ".py",
   "mimetype": "text/x-python",
   "name": "python",
   "nbconvert_exporter": "python",
   "pygments_lexer": "ipython3",
   "version": "3.11.5"
  }
 },
 "nbformat": 4,
 "nbformat_minor": 4
}
